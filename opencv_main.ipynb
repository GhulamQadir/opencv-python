{
 "cells": [
  {
   "cell_type": "code",
   "execution_count": 2,
   "id": "1223beb7",
   "metadata": {},
   "outputs": [],
   "source": [
    "import cv2"
   ]
  },
  {
   "cell_type": "code",
   "execution_count": 3,
   "id": "300f7b2b",
   "metadata": {},
   "outputs": [],
   "source": [
    "\n",
    "img = cv2.imread(\"images/img1.jpg\")  # reads image\n",
    "cv2.imshow(\"Image 1\",img)  # shows image\n",
    "cv2.waitKey(0)  # image frame wait time in milliseconds, or 0 for any key press\n",
    "cv2.destroyWindow(\"Image 1\")  # only one window close"
   ]
  },
  {
   "cell_type": "code",
   "execution_count": 4,
   "id": "901a4b9d",
   "metadata": {},
   "outputs": [],
   "source": [
    "img2 = cv2.imread(\"images/img2.jpg\")  \n",
    "cv2.imshow(\"Image 2\",img2)  \n",
    "cv2.imshow(\"Image 1\",img)\n",
    "cv2.waitKey(0)  \n",
    "cv2.destroyAllWindows()  # all windows close\n",
    "\n",
    "# # for destroying specific window\n",
    "# cv2.destroyWindow(\"Image 1\")"
   ]
  },
  {
   "cell_type": "code",
   "execution_count": 5,
   "id": "887538eb",
   "metadata": {},
   "outputs": [],
   "source": [
    "# resize image\n",
    "resized_img = cv2.resize(img2,(500, 400))  # width 500 and height 400\n",
    "cv2.imshow(\"Image 3\",resized_img)\n",
    "cv2.waitKey(0) \n",
    "cv2.destroyWindow(\"Image 3\")"
   ]
  },
  {
   "cell_type": "markdown",
   "id": "c6ffc922",
   "metadata": {},
   "source": [
    "## Showing multiple images in slideshow"
   ]
  },
  {
   "cell_type": "code",
   "execution_count": 6,
   "id": "5696b117",
   "metadata": {},
   "outputs": [
    {
     "name": "stdout",
     "output_type": "stream",
     "text": [
      "[[[247 228 220]\n",
      "  [247 228 220]\n",
      "  [247 228 220]\n",
      "  ...\n",
      "  [ 30  90 136]\n",
      "  [ 28  88 134]\n",
      "  [ 26  86 132]]\n",
      "\n",
      " [[247 228 220]\n",
      "  [247 228 220]\n",
      "  [247 228 220]\n",
      "  ...\n",
      "  [ 30  90 136]\n",
      "  [ 28  88 134]\n",
      "  [ 26  86 132]]\n",
      "\n",
      " [[247 228 220]\n",
      "  [247 228 220]\n",
      "  [247 228 220]\n",
      "  ...\n",
      "  [ 31  91 137]\n",
      "  [ 29  89 135]\n",
      "  [ 27  87 133]]\n",
      "\n",
      " ...\n",
      "\n",
      " [[ 49 140 215]\n",
      "  [ 49 140 215]\n",
      "  [ 49 140 215]\n",
      "  ...\n",
      "  [ 50 148 218]\n",
      "  [ 50 148 218]\n",
      "  [ 49 147 217]]\n",
      "\n",
      " [[ 48 139 214]\n",
      "  [ 48 139 214]\n",
      "  [ 48 139 214]\n",
      "  ...\n",
      "  [ 51 147 217]\n",
      "  [ 51 147 217]\n",
      "  [ 50 146 216]]\n",
      "\n",
      " [[ 47 138 213]\n",
      "  [ 47 138 213]\n",
      "  [ 47 138 213]\n",
      "  ...\n",
      "  [ 51 146 216]\n",
      "  [ 51 146 216]\n",
      "  [ 50 145 215]]]\n"
     ]
    }
   ],
   "source": [
    "import numpy as np\n",
    "\n",
    "image_in_arr = np.array(img)\n",
    "print(image_in_arr)"
   ]
  },
  {
   "cell_type": "code",
   "execution_count": 7,
   "id": "7370d4d0",
   "metadata": {},
   "outputs": [
    {
     "name": "stdout",
     "output_type": "stream",
     "text": [
      "[1 2 3 4 5 6 7 8]\n"
     ]
    }
   ],
   "source": [
    "# joining two arrays horizontally\n",
    "arr1 = np.array([1,2,3,4])\n",
    "arr2 = np.array([5,6,7,8])\n",
    "joinedHoriz= np.hstack((arr1,arr2))\n",
    "print(joinedHoriz)"
   ]
  },
  {
   "cell_type": "markdown",
   "id": "b370906b",
   "metadata": {},
   "source": [
    "## **Joining Images**"
   ]
  },
  {
   "cell_type": "code",
   "execution_count": 8,
   "id": "6fdc7da1",
   "metadata": {},
   "outputs": [],
   "source": [
    "# Joining two images horizontally \n",
    "img1 = cv2.resize(cv2.imread(\"images/img1.jpg\"),(300,500))\n",
    "img2 = cv2.resize(cv2.imread(\"images/img2.jpg\"), (300,500))\n",
    "horiz_joined = np.hstack((img1,img2))\n",
    "cv2.imshow(\"Horizontally Joined Image\",horiz_joined)\n",
    "cv2.waitKey(0)\n",
    "cv2.destroyWindow(\"Horizontally Joined Image\")"
   ]
  },
  {
   "cell_type": "code",
   "execution_count": 9,
   "id": "59a54a20",
   "metadata": {},
   "outputs": [],
   "source": [
    "# Joining two images Vertically \n",
    "img1 = cv2.resize(cv2.imread(\"images/img3.jpeg\"),(250,200))\n",
    "img2 = cv2.resize(cv2.imread(\"images/img4.jpg\"), (250,200))  # width 250 and height 300\n",
    "vert_joined = np.vstack((img1,img2))\n",
    "cv2.imshow(\"Vertically Joined Image\",vert_joined)\n",
    "cv2.waitKey(0)\n",
    "cv2.destroyWindow(\"Vertically Joined Image\")"
   ]
  },
  {
   "cell_type": "markdown",
   "id": "7d09ac90",
   "metadata": {},
   "source": [
    "## **Showing multiple images in a single frame**\n"
   ]
  },
  {
   "cell_type": "code",
   "execution_count": 10,
   "id": "a5d4e612",
   "metadata": {},
   "outputs": [],
   "source": [
    "img1 = cv2.resize(cv2.imread(\"images/img1.jpg\"),(250,200))\n",
    "img2 = cv2.resize(cv2.imread(\"images/img2.jpg\"), (250,200))\n",
    "row1 = np.hstack((img1,img2))\n",
    "\n",
    "img3 = cv2.resize(cv2.imread(\"images/img3.jpeg\"),(250,200))\n",
    "img4 = cv2.resize(cv2.imread(\"images/img4.jpg\"), (250,200))\n",
    "row2 = np.hstack((img3,img4))\n",
    "\n",
    "# now joining both rows in v stack\n",
    "slideshow = np.vstack((row1,row2))\n",
    "\n",
    "cv2.imshow(\"Slideshow\",slideshow)\n",
    "cv2.waitKey(0)\n",
    "cv2.destroyWindow(\"Slideshow\")"
   ]
  },
  {
   "cell_type": "markdown",
   "id": "4f2961b7",
   "metadata": {},
   "source": [
    "## **Making Slideshow** "
   ]
  },
  {
   "cell_type": "code",
   "execution_count": null,
   "id": "d44d9e96",
   "metadata": {},
   "outputs": [
    {
     "name": "stdout",
     "output_type": "stream",
     "text": [
      "images\\img1.jpg\n",
      "images\\img2.jpg\n",
      "images\\img3.jpeg\n",
      "images\\img4.jpg\n"
     ]
    }
   ],
   "source": [
    "import os\n",
    "\n",
    "name_list = os.listdir(\"images\")  # A list of filenames (strings) in that directory.\n",
    "name_list\n",
    "\n",
    "for file in name_list:\n",
    "    img_path = os.path.join(\"images\",file)\n",
    "    print(img_path)\n",
    "    img =cv2.resize(cv2.imread(img_path),(350,400))\n",
    "    cv2.imshow(\"Slideshow\",img)\n",
    "    # cv2.waitKey(2000)  # time to change the frame in milliseconds\n",
    "    cv2.waitKey(0)\n",
    "    \n",
    "cv2.destroyAllWindows()\n"
   ]
  }
 ],
 "metadata": {
  "kernelspec": {
   "display_name": "Python 3",
   "language": "python",
   "name": "python3"
  },
  "language_info": {
   "codemirror_mode": {
    "name": "ipython",
    "version": 3
   },
   "file_extension": ".py",
   "mimetype": "text/x-python",
   "name": "python",
   "nbconvert_exporter": "python",
   "pygments_lexer": "ipython3",
   "version": "3.13.2"
  }
 },
 "nbformat": 4,
 "nbformat_minor": 5
}
